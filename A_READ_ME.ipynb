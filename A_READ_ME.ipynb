{
 "cells": [
  {
   "cell_type": "markdown",
   "metadata": {},
   "source": [
    "**A_To_Do_List.ipynb:**\n",
    "    To do list for the project and everything that needs to be done data wise\n",
    "$$\n",
    "$$  \n",
    "**Countries_and_Conntinents.ipynb:**\n",
    "    Countries orginized by continent\n",
    "$$\n",
    "$$     \n",
    "**Earthquake_Impact_CSV_Data.ipynb:**\n",
    "    Taking the raw CSV data and cleaning it up into one simple dataframe.\n",
    "    note: impact coloumn still needs work\n",
    "$$\n",
    "$$ \n",
    "**Earthquake_Impact_Data_Upload_and_Cleaning.ipynb:**\n",
    "    Taking excel sheet and making it into csv files\n",
    "$$\n",
    "$$ \n",
    "**GDP_Data_and_Cleaning.ipynb:**\n",
    "    GDP data that has been cleaning of all symbols and words to become valuable numbers for countries\n",
    "$$\n",
    "$$ \n",
    "**Milestone.ipynb:**\n",
    "    Milstone write up that needs to be done by before 3/29.\n",
    "$$\n",
    "$$ \n",
    "**Peer_review_notes.ipynb:**\n",
    "    Notes taken from questioning\n",
    "$$\n",
    "$$ \n",
    "**Proposal.ipynb:**\n",
    "    proposal for the project\n",
    "$$\n",
    "$$ \n",
    "**USGS_Data_Scrape_and_Map.ipynb:**\n",
    "    Takng current data from the usgs website for up to date earthquakes and applying it to a map"
   ]
  },
  {
   "cell_type": "code",
   "execution_count": null,
   "metadata": {},
   "outputs": [],
   "source": []
  }
 ],
 "metadata": {
  "kernelspec": {
   "display_name": "Python 3",
   "language": "python",
   "name": "python3"
  },
  "language_info": {
   "codemirror_mode": {
    "name": "ipython",
    "version": 3
   },
   "file_extension": ".py",
   "mimetype": "text/x-python",
   "name": "python",
   "nbconvert_exporter": "python",
   "pygments_lexer": "ipython3",
   "version": "3.6.10"
  }
 },
 "nbformat": 4,
 "nbformat_minor": 4
}
