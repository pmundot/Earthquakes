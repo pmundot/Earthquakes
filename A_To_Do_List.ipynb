{
 "cells": [
  {
   "cell_type": "markdown",
   "metadata": {},
   "source": [
    "## TO DO LIST: All Parts"
   ]
  },
  {
   "cell_type": "markdown",
   "metadata": {},
   "source": [
    "**Data Extraction**\n",
    "$$\n",
    "$$\n",
    "-GDP data: Cleaned and pulled, edit headers\n",
    "$$\n",
    "$$\n",
    "-Modern Earthquakes: Scrape from website, clean and orginize\n",
    "$$\n",
    "$$\n",
    "-Past Earthquakes: excel sheet: clean, orginize, find longitude and lattitude points for 2017-2018\n",
    "$$\n",
    "$$\n",
    "-Pick 5-10 cities: get population and polulation density"
   ]
  },
  {
   "cell_type": "markdown",
   "metadata": {},
   "source": [
    "**Analysis**\n",
    "$$\n",
    "$$\n",
    "-probability of earthquake magnitudes\n",
    "$$\n",
    "$$\n",
    "-correlation between a ton of stuff and damage\n",
    "$$\n",
    "$$\n",
    "-clustering of earthquakes?\n"
   ]
  },
  {
   "cell_type": "markdown",
   "metadata": {},
   "source": [
    "**GUI**\n",
    "$$\n",
    "$$\n",
    "-Map with dots of current earthquakes\n",
    "$$\n",
    "$$\n",
    "-colculations of expected damage and probability\n",
    "$$\n",
    "$$\n",
    "-html fomating"
   ]
  },
  {
   "cell_type": "code",
   "execution_count": null,
   "metadata": {},
   "outputs": [],
   "source": []
  }
 ],
 "metadata": {
  "kernelspec": {
   "display_name": "Python 3",
   "language": "python",
   "name": "python3"
  },
  "language_info": {
   "codemirror_mode": {
    "name": "ipython",
    "version": 3
   },
   "file_extension": ".py",
   "mimetype": "text/x-python",
   "name": "python",
   "nbconvert_exporter": "python",
   "pygments_lexer": "ipython3",
   "version": "3.6.10"
  }
 },
 "nbformat": 4,
 "nbformat_minor": 4
}
