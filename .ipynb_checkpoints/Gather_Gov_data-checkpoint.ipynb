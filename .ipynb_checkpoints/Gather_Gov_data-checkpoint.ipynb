{
 "cells": [
  {
   "cell_type": "code",
   "execution_count": 1,
   "metadata": {},
   "outputs": [],
   "source": [
    "import pandas as pd\n",
    "import numpy as np\n",
    "from bs4 import BeautifulSoup\n",
    "import scipy as sci\n",
    "from requests import get\n",
    "import folium\n",
    "from geopy.geocoders import ArcGIS"
   ]
  },
  {
   "cell_type": "code",
   "execution_count": null,
   "metadata": {},
   "outputs": [],
   "source": [
    "url = 'http://feed.unmung.com/feed?feed=http://earthquake.usgs.gov/earthquakes/feed/v1.0/summary/all_day.atom'"
   ]
  },
  {
   "cell_type": "code",
   "execution_count": null,
   "metadata": {},
   "outputs": [],
   "source": [
    "response=get(url)\n",
    "soup=BeautifulSoup(response.text,'html.parser')"
   ]
  },
  {
   "cell_type": "code",
   "execution_count": 41,
   "metadata": {},
   "outputs": [],
   "source": [
    "Location=soup.find_all('a',class_=\"u-url\")\n",
    "Data=soup.find_all('span',class_=\"e-summary\")\n",
    "g1=Data[0].find_all('dd')\n",
    "g2=Data[1].find_all('dd')\n",
    "L=Location[1].get_text()\n",
    "\n",
    "\n",
    "def mag_title(x):\n",
    "    magnitude=float(x[1:5])\n",
    "    location=x[7:]\n",
    "    return(magnitude,location)\n",
    "\n",
    "\n",
    "Locate=[]\n",
    "magni=[]\n",
    "for kip in Location:\n",
    "    poper=mag_title(L)\n",
    "    Locate.append(poper[1])\n",
    "    magni.append(poper[0])"
   ]
  },
  {
   "cell_type": "code",
   "execution_count": 42,
   "metadata": {},
   "outputs": [],
   "source": [
    "time=[]\n",
    "loc=[]\n",
    "depth=[]\n",
    "for stuff in Data:\n",
    "    j=stuff.find_all('dd')\n",
    "    time.append(j[0].get_text())\n",
    "    loc.append(j[2].get_text())\n",
    "    depth.append(j[3].get_text())   "
   ]
  },
  {
   "cell_type": "code",
   "execution_count": 27,
   "metadata": {},
   "outputs": [],
   "source": [
    "def lattitudel(x):\n",
    "    if \"S\" in x:\n",
    "        cord=-float(x.replace('°S',''))\n",
    "    else:\n",
    "        cord=float(x.replace('°N',''))\n",
    "    return(cord)\n",
    "\n",
    "def longitudel(x):\n",
    "    if \"W\" in x:\n",
    "        cord=-float(x.replace('°W',''))\n",
    "    else:\n",
    "        cord=float(x.replace('°E',''))\n",
    "    return(cord)\n",
    "def coord_split(x):\n",
    "    half=len(x)//2\n",
    "    first=x[:half]\n",
    "    last=x[half:]\n",
    "    return(first,last)\n",
    "\n",
    "lattitude=[]\n",
    "longitude=[]\n",
    "for sets in loc:\n",
    "    x,y=coord_split(sets)\n",
    "    lattitude.append(lattitudel(x))\n",
    "    longitude.append(longitudel(y))"
   ]
  },
  {
   "cell_type": "code",
   "execution_count": null,
   "metadata": {},
   "outputs": [],
   "source": [
    "def cool(m):\n",
    "    if 0<=m<1:\n",
    "        return('green')\n",
    "    elif 1<=m<2:\n",
    "        return('orange')\n",
    "    elif 2<=m<3:\n",
    "        return('blue')\n",
    "    elif 3<=m<4:\n",
    "        return('teal')\n",
    "    elif 5<=m<6:\n",
    "        return('purple')\n",
    "    elif 6<=m<7:\n",
    "        return('amber')\n",
    "    else:\n",
    "        return('red')\n",
    "    \n",
    "nom=ArcGIS()\n",
    "p=nom.geocode(\"1518 Iron Gray Drive, Riverton, UT 84065\")\n",
    "map=folium.Map(location=[p.latitude,p.longitude], zoom_start=4, tiles=\"Stamen Terrain\")\n",
    "\n",
    "html=\"\"\"<h4><b>Earquakes Info</b></h4>\n",
    "<p><b>Location: </b>%s</p>\n",
    "<b>Magnitude: </b>%s\n",
    "\"\"\"\n",
    "fgv=folium.FeatureGroup(name=\"shake\")\n",
    "for la, lo, m, l in zip(lattitude,longitude,magni,Locate):\n",
    "    iframe=folium.IFrame(html=html %(l,str(m)),width=200,height=100)\n",
    "    fgv.add_child(folium.CircleMarker(location=[la,lo],\n",
    "    fill_color=cool(e),fill=True,color='black',fill_capacity=0.9))\n",
    "map.add_child(fvg)"
   ]
  },
  {
   "cell_type": "code",
   "execution_count": 59,
   "metadata": {},
   "outputs": [
    {
     "name": "stdout",
     "output_type": "stream",
     "text": [
      "0 days 00:13:26\n"
     ]
    }
   ],
   "source": [
    "G=g1[0].get_text()\n",
    "H=g2[0].get_text()\n",
    "time1=pd.to_datetime(G[0:len(G)-3])\n",
    "time2=pd.to_datetime(H[0:len(H)-3])\n",
    "print(time1-time2)"
   ]
  },
  {
   "cell_type": "code",
   "execution_count": null,
   "metadata": {},
   "outputs": [],
   "source": []
  }
 ],
 "metadata": {
  "kernelspec": {
   "display_name": "Python 3",
   "language": "python",
   "name": "python3"
  },
  "language_info": {
   "codemirror_mode": {
    "name": "ipython",
    "version": 3
   },
   "file_extension": ".py",
   "mimetype": "text/x-python",
   "name": "python",
   "nbconvert_exporter": "python",
   "pygments_lexer": "ipython3",
   "version": "3.6.4"
  }
 },
 "nbformat": 4,
 "nbformat_minor": 2
}
