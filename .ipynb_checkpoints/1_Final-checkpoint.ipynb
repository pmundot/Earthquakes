{
 "cells": [
  {
   "cell_type": "code",
   "execution_count": 1,
   "metadata": {},
   "outputs": [],
   "source": [
    "import pandas as pd\n",
    "import numpy as np\n",
    "from bs4 import BeautifulSoup\n",
    "import scipy as sci\n",
    "from requests import get\n",
    "import folium\n",
    "from geopy.geocoders import ArcGIS\n",
    "import matplotlib.pyplot as plt\n",
    "import statsmodels.formula.api as sm\n",
    "import pycountry\n",
    "import re"
   ]
  },
  {
   "cell_type": "markdown",
   "metadata": {},
   "source": [
    "Importing database essentials and cleaning data"
   ]
  },
  {
   "cell_type": "code",
   "execution_count": 2,
   "metadata": {},
   "outputs": [],
   "source": [
    "# Import CSV Files Extracted from the Earthquake Impact Database\n",
    "data_2017 = pd.read_csv(\"2017_raw.csv\", encoding = \"ISO-8859-1\").dropna(axis = 0, how = \"all\")\n",
    "data_2018 = pd.read_csv(\"2018_raw.csv\", encoding = \"ISO-8859-1\").dropna(axis = 0, how = \"all\")\n",
    "data_2019 = pd.read_csv(\"2019_raw.csv\", encoding = \"ISO-8859-1\").dropna(axis = 0, how = \"all\")\n",
    "data_2020 = pd.read_csv(\"2020_raw.csv\", encoding = \"ISO-8859-1\").dropna(axis = 0, how = \"all\", thresh = 2)"
   ]
  },
  {
   "cell_type": "code",
   "execution_count": 3,
   "metadata": {},
   "outputs": [],
   "source": [
    "#Clean 2020 Data\n",
    "data_2020 = data_2020.drop('Depth (km)', axis = 1).drop('Type', axis = 1).drop('Origin', axis = 1).drop('Tsunami height', axis = 1)\n",
    "data_2020 = data_2020.fillna(value = 0)\n",
    "data_2020 = data_2020.rename(columns = {\"Epicenter\" : \"Country\", \"Region (Epicenter)\" : \"Region\"} )\n",
    "\n",
    "#Clean 2019 Data\n",
    "data_2019 = data_2019.drop('Depth (km)', axis = 1).drop('Type', axis = 1).drop('Origin', axis = 1).drop('Tsunami height', axis = 1)\n",
    "data_2019 = data_2019.fillna(value = 0).replace(\"--\", \"0\")\n",
    "data_2019 = data_2019.rename(columns = {\"Country (Epicenter)\" : \"Country\", \"Region (Epicenter)\" : \"Region\"} )\n",
    "\n",
    "#Clean 2018 Data\n",
    "data_2018 = data_2018.drop('Depth (km)', axis = 1).drop('Type', axis = 1).drop('Origin', axis = 1).drop('Tsunami height', axis = 1)\n",
    "data_2018 = data_2018.fillna(value = 0).replace(\"--\", \"0\")\n",
    "latlong_2018 = [0 for _ in range(0, len(data_2018.index))]\n",
    "data_2018.insert(loc = 4, column = 'Lat', value = latlong_2018)\n",
    "data_2018.insert(loc = 5, column = 'Long', value = latlong_2018)\n",
    "data_2018 = data_2018.rename(columns = {\"Country (Epicenter)\" : \"Country\", \"Region (Epicenter)\" : \"Region\"} )\n",
    "\n",
    "#Clean 2017 Data\n",
    "data_2017 = data_2017.drop('Depth (km)', axis = 1).drop('Tsunami height', axis = 1)\n",
    "data_2017 = data_2017.fillna(value = 0).replace(\"--\", \"0\")\n",
    "latlong_2017 = [0 for _ in range(0, len(data_2017.index))]\n",
    "data_2017.insert(loc = 4, column = 'Lat', value = latlong_2017)\n",
    "data_2017.insert(loc = 5, column = 'Long', value = latlong_2017)\n",
    "data_2017 = data_2017.rename(columns = {\"Impact coefficient (D)\" : \"Impact value (D)\"} )"
   ]
  },
  {
   "cell_type": "code",
   "execution_count": 4,
   "metadata": {},
   "outputs": [],
   "source": [
    "#Concatenate Dataframes into a Single Dataset\n",
    "earthquake_data = pd.concat([data_2017, data_2018, data_2019, data_2020], sort = False).reset_index(drop = True)\n",
    "Database = pd.concat([data_2019, data_2020], sort = False).reset_index(drop = True)"
   ]
  },
  {
   "cell_type": "markdown",
   "metadata": {},
   "source": [
    "Cleaning and converting data"
   ]
  },
  {
   "cell_type": "code",
   "execution_count": 5,
   "metadata": {},
   "outputs": [],
   "source": [
    "earthquake_data['Intensity (MMI / JMA)']=earthquake_data['Intensity (MMI / JMA)'].str.replace('+',' ')\n",
    "earthquake_data['Intensity (MMI / JMA)']=earthquake_data['Intensity (MMI / JMA)'].str.replace('-',' ')\n",
    "earthquake_data['Intensity (MMI / JMA)']=earthquake_data['Intensity (MMI / JMA)'].str.replace('JMA',' ')\n",
    "earthquake_data['Intensity (MMI / JMA)']=earthquake_data['Intensity (MMI / JMA)'].str.replace('/ 7',' ')\n",
    "earthquake_data['Intensity (MMI / JMA)']=earthquake_data['Intensity (MMI / JMA)'].str.replace('Shindo ','')\n",
    "\n",
    "Database['Intensity (MMI / JMA)']=Database['Intensity (MMI / JMA)'].str.replace('+',' ')\n",
    "Database['Intensity (MMI / JMA)']=Database['Intensity (MMI / JMA)'].str.replace('-',' ')\n",
    "Database['Intensity (MMI / JMA)']=Database['Intensity (MMI / JMA)'].str.replace('JMA',' ')\n",
    "Database['Intensity (MMI / JMA)']=Database['Intensity (MMI / JMA)'].str.replace('/ 7',' ')\n",
    "Database['Intensity (MMI / JMA)']=Database['Intensity (MMI / JMA)'].str.replace('Shindo ','')\n",
    "\n",
    "\n",
    "def roman_to_number(num):\n",
    "    rom_val = {'I': 1, 'V': 5, 'X': 10, 'L':50 , 'C':100, 'D':500, 'M':1000}\n",
    "    res=0\n",
    "    i=0\n",
    "    while i<len(num):\n",
    "        s1=num[i]\n",
    "        num1=rom_val[s1]\n",
    "        if i+1<len(num):\n",
    "            s2=num[i+1]\n",
    "            num2=rom_val[s2]\n",
    "            if num2<=num1:\n",
    "                res=res+num1\n",
    "                i+=1\n",
    "            else:\n",
    "                res=res+num2-num1\n",
    "                i+=2\n",
    "        else:\n",
    "            res=res+num1\n",
    "            i+=1\n",
    "    return(res)\n",
    "        \n",
    "def change(num):\n",
    "    if type(num)==str:\n",
    "        if len(num)>4:\n",
    "            tip=num[0:len(num)//2].strip()\n",
    "        else:\n",
    "            tip=num.strip()\n",
    "        try:\n",
    "            return(int(tip))\n",
    "        except:\n",
    "            return(roman_to_number(tip))\n",
    "    else:\n",
    "        return(num)\n",
    "earthquake_data['Intensity (MMI / JMA)']=[change(chest) for chest in earthquake_data['Intensity (MMI / JMA)']]\n",
    "Database['Intensity (MMI / JMA)']=[change(chest) for chest in Database['Intensity (MMI / JMA)']]"
   ]
  },
  {
   "cell_type": "markdown",
   "metadata": {},
   "source": [
    "Database of current earthquakes across the globe"
   ]
  },
  {
   "cell_type": "code",
   "execution_count": 6,
   "metadata": {},
   "outputs": [],
   "source": [
    "url = 'http://feed.unmung.com/feed?feed=http://earthquake.usgs.gov/earthquakes/feed/v1.0/summary/4.5+_month.atom'\n",
    "response=get(url)\n",
    "soup=BeautifulSoup(response.text,'html.parser')\n",
    "\n",
    "Location=soup.find_all('a',class_=\"u-url\")\n",
    "Data=soup.find_all('span',class_=\"e-summary\")\n",
    "Location.pop(0)\n",
    "def mag_title(x):\n",
    "    magnitude=float(x[1:5])\n",
    "    location=x[7:]\n",
    "    return(magnitude,location)\n",
    "\n",
    "Locate=[]\n",
    "magni=[]\n",
    "for kip in Location:\n",
    "    inter=kip.get_text()\n",
    "    poper=mag_title(inter)\n",
    "    Locate.append(poper[1])\n",
    "    magni.append(poper[0])"
   ]
  },
  {
   "cell_type": "code",
   "execution_count": 8,
   "metadata": {},
   "outputs": [
    {
     "data": {
      "text/html": [
       "<div>\n",
       "<style scoped>\n",
       "    .dataframe tbody tr th:only-of-type {\n",
       "        vertical-align: middle;\n",
       "    }\n",
       "\n",
       "    .dataframe tbody tr th {\n",
       "        vertical-align: top;\n",
       "    }\n",
       "\n",
       "    .dataframe thead th {\n",
       "        text-align: right;\n",
       "    }\n",
       "</style>\n",
       "<table border=\"1\" class=\"dataframe\">\n",
       "  <thead>\n",
       "    <tr style=\"text-align: right;\">\n",
       "      <th></th>\n",
       "      <th>time</th>\n",
       "      <th>Location</th>\n",
       "      <th>Magnitude</th>\n",
       "      <th>Depth (km)</th>\n",
       "      <th>lattitude</th>\n",
       "      <th>longitude</th>\n",
       "      <th>Country</th>\n",
       "    </tr>\n",
       "  </thead>\n",
       "  <tbody>\n",
       "    <tr>\n",
       "      <th>0</th>\n",
       "      <td>2020-04-08 10:02:31 UTC</td>\n",
       "      <td>176km SSE of Sigave, Wallis and Futuna</td>\n",
       "      <td>5.4</td>\n",
       "      <td>411.84 km (255.91 mi)</td>\n",
       "      <td>-15.785</td>\n",
       "      <td>-177.567</td>\n",
       "      <td>Wallis and Futuna</td>\n",
       "    </tr>\n",
       "    <tr>\n",
       "      <th>1</th>\n",
       "      <td>2020-04-08 07:58:53 UTC</td>\n",
       "      <td>140km NNE of Chichi-shima, Japan</td>\n",
       "      <td>4.7</td>\n",
       "      <td>20.12 km (12.50 mi)</td>\n",
       "      <td>28.322</td>\n",
       "      <td>142.527</td>\n",
       "      <td>Japan</td>\n",
       "    </tr>\n",
       "    <tr>\n",
       "      <th>2</th>\n",
       "      <td>2020-04-08 05:55:50 UTC</td>\n",
       "      <td>115km WNW of Naha-shi, Japan</td>\n",
       "      <td>5.0</td>\n",
       "      <td>103.53 km (64.33 mi)</td>\n",
       "      <td>26.688</td>\n",
       "      <td>126.649</td>\n",
       "      <td>Japan</td>\n",
       "    </tr>\n",
       "    <tr>\n",
       "      <th>3</th>\n",
       "      <td>2020-04-07 21:51:26 UTC</td>\n",
       "      <td>61km E of Sary-Tash, Kyrgyzstan</td>\n",
       "      <td>4.6</td>\n",
       "      <td>18.62 km (11.57 mi)</td>\n",
       "      <td>39.804</td>\n",
       "      <td>73.958</td>\n",
       "      <td>Kyrgyzstan</td>\n",
       "    </tr>\n",
       "    <tr>\n",
       "      <th>4</th>\n",
       "      <td>2020-04-07 20:10:01 UTC</td>\n",
       "      <td>87km W of Kandrian, Papua New Guinea</td>\n",
       "      <td>4.7</td>\n",
       "      <td>54.70 km (33.99 mi)</td>\n",
       "      <td>-6.308</td>\n",
       "      <td>148.767</td>\n",
       "      <td>Papua New Guinea</td>\n",
       "    </tr>\n",
       "    <tr>\n",
       "      <th>...</th>\n",
       "      <td>...</td>\n",
       "      <td>...</td>\n",
       "      <td>...</td>\n",
       "      <td>...</td>\n",
       "      <td>...</td>\n",
       "      <td>...</td>\n",
       "      <td>...</td>\n",
       "    </tr>\n",
       "    <tr>\n",
       "      <th>368</th>\n",
       "      <td>2020-03-10 10:18:04 UTC</td>\n",
       "      <td>10km W of Cicurug, Indonesia</td>\n",
       "      <td>5.0</td>\n",
       "      <td>10.00 km (6.21 mi)</td>\n",
       "      <td>-6.796</td>\n",
       "      <td>106.687</td>\n",
       "      <td>Indonesia</td>\n",
       "    </tr>\n",
       "    <tr>\n",
       "      <th>369</th>\n",
       "      <td>2020-03-10 07:20:58 UTC</td>\n",
       "      <td>Central Mid-Atlantic Ridge</td>\n",
       "      <td>5.0</td>\n",
       "      <td>10.00 km (6.21 mi)</td>\n",
       "      <td>-0.602</td>\n",
       "      <td>-20.719</td>\n",
       "      <td>Central Mid-Atlantic Ridge</td>\n",
       "    </tr>\n",
       "    <tr>\n",
       "      <th>370</th>\n",
       "      <td>2020-03-10 06:39:57 UTC</td>\n",
       "      <td>219km SE of Hachijo-jima, Japan</td>\n",
       "      <td>4.5</td>\n",
       "      <td>30.51 km (18.96 mi)</td>\n",
       "      <td>31.780</td>\n",
       "      <td>141.551</td>\n",
       "      <td>Japan</td>\n",
       "    </tr>\n",
       "    <tr>\n",
       "      <th>371</th>\n",
       "      <td>2020-03-10 05:45:07 UTC</td>\n",
       "      <td>Fiji region</td>\n",
       "      <td>4.9</td>\n",
       "      <td>10.00 km (6.21 mi)</td>\n",
       "      <td>-17.443</td>\n",
       "      <td>-176.626</td>\n",
       "      <td>Fiji region</td>\n",
       "    </tr>\n",
       "    <tr>\n",
       "      <th>372</th>\n",
       "      <td>2020-03-09 19:35:02 UTC</td>\n",
       "      <td>South of the Fiji Islands</td>\n",
       "      <td>4.8</td>\n",
       "      <td>529.41 km (328.96 mi)</td>\n",
       "      <td>-23.291</td>\n",
       "      <td>179.683</td>\n",
       "      <td>South of the Fiji Islands</td>\n",
       "    </tr>\n",
       "  </tbody>\n",
       "</table>\n",
       "<p>373 rows × 7 columns</p>\n",
       "</div>"
      ],
      "text/plain": [
       "                        time                                 Location  \\\n",
       "0    2020-04-08 10:02:31 UTC   176km SSE of Sigave, Wallis and Futuna   \n",
       "1    2020-04-08 07:58:53 UTC         140km NNE of Chichi-shima, Japan   \n",
       "2    2020-04-08 05:55:50 UTC             115km WNW of Naha-shi, Japan   \n",
       "3    2020-04-07 21:51:26 UTC          61km E of Sary-Tash, Kyrgyzstan   \n",
       "4    2020-04-07 20:10:01 UTC     87km W of Kandrian, Papua New Guinea   \n",
       "..                       ...                                      ...   \n",
       "368  2020-03-10 10:18:04 UTC             10km W of Cicurug, Indonesia   \n",
       "369  2020-03-10 07:20:58 UTC               Central Mid-Atlantic Ridge   \n",
       "370  2020-03-10 06:39:57 UTC          219km SE of Hachijo-jima, Japan   \n",
       "371  2020-03-10 05:45:07 UTC                              Fiji region   \n",
       "372  2020-03-09 19:35:02 UTC                South of the Fiji Islands   \n",
       "\n",
       "     Magnitude             Depth (km)  lattitude  longitude  \\\n",
       "0          5.4  411.84 km (255.91 mi)    -15.785   -177.567   \n",
       "1          4.7    20.12 km (12.50 mi)     28.322    142.527   \n",
       "2          5.0   103.53 km (64.33 mi)     26.688    126.649   \n",
       "3          4.6    18.62 km (11.57 mi)     39.804     73.958   \n",
       "4          4.7    54.70 km (33.99 mi)     -6.308    148.767   \n",
       "..         ...                    ...        ...        ...   \n",
       "368        5.0     10.00 km (6.21 mi)     -6.796    106.687   \n",
       "369        5.0     10.00 km (6.21 mi)     -0.602    -20.719   \n",
       "370        4.5    30.51 km (18.96 mi)     31.780    141.551   \n",
       "371        4.9     10.00 km (6.21 mi)    -17.443   -176.626   \n",
       "372        4.8  529.41 km (328.96 mi)    -23.291    179.683   \n",
       "\n",
       "                         Country  \n",
       "0              Wallis and Futuna  \n",
       "1                          Japan  \n",
       "2                          Japan  \n",
       "3                     Kyrgyzstan  \n",
       "4               Papua New Guinea  \n",
       "..                           ...  \n",
       "368                    Indonesia  \n",
       "369   Central Mid-Atlantic Ridge  \n",
       "370                        Japan  \n",
       "371                  Fiji region  \n",
       "372    South of the Fiji Islands  \n",
       "\n",
       "[373 rows x 7 columns]"
      ]
     },
     "execution_count": 8,
     "metadata": {},
     "output_type": "execute_result"
    }
   ],
   "source": [
    "time=[]\n",
    "loc=[]\n",
    "depth=[]\n",
    "for stuff in Data:\n",
    "    j=stuff.find_all('dd')\n",
    "    time.append(j[0].get_text())\n",
    "    loc.append(j[2].get_text())\n",
    "    depth.append(j[3].get_text())   \n",
    "\n",
    "def lattitudel(x):\n",
    "    if \"S\" in x:\n",
    "        cord=-float(x.replace('°S',''))\n",
    "    else:\n",
    "        cord=float(x.replace('°N',''))\n",
    "    return(cord)\n",
    "\n",
    "def longitudel(x):\n",
    "    if \"W\" in x:\n",
    "        cord=-float(x.replace('°W',''))\n",
    "    else:\n",
    "        cord=float(x.replace('°E',''))\n",
    "    return(cord)\n",
    "def coord_split(x):\n",
    "    half=len(x)//2\n",
    "    first=x[:half]\n",
    "    last=x[half:]\n",
    "    return(first,last)\n",
    "\n",
    "lattitude=[]\n",
    "longitude=[]\n",
    "for sets in loc:\n",
    "    x,y=coord_split(sets)\n",
    "    lattitude.append(lattitudel(x))\n",
    "    longitude.append(longitudel(y))\n",
    "\n",
    "Current=pd.DataFrame(zip(time,Locate,magni,depth,lattitude,longitude), columns=['time','Location','Magnitude','Depth (km)','lattitude','longitude'])\n",
    "def co(text):\n",
    "    for country in pycountry.countries:\n",
    "        if country.name in text:\n",
    "            return(country.name)\n",
    "t=[]\n",
    "for i,text in enumerate(Current['Location']):\n",
    "    j=re.findall(r\",([\\w\\s]+)\",text)\n",
    "    if len(j)==0:\n",
    "        if type(co(text)) is None:\n",
    "            t.append(co(text))\n",
    "        else:\n",
    "            t.append(text)\n",
    "    elif len(j)>0:\n",
    "        t.extend(j)\n",
    "    else:\n",
    "        t.append(text)\n",
    "Current['Country']=t\n",
    "Current"
   ]
  },
  {
   "cell_type": "markdown",
   "metadata": {},
   "source": [
    "Getting GDP and countries by continent and land area"
   ]
  },
  {
   "cell_type": "code",
   "execution_count": 9,
   "metadata": {},
   "outputs": [
    {
     "data": {
      "text/html": [
       "<div>\n",
       "<style scoped>\n",
       "    .dataframe tbody tr th:only-of-type {\n",
       "        vertical-align: middle;\n",
       "    }\n",
       "\n",
       "    .dataframe tbody tr th {\n",
       "        vertical-align: top;\n",
       "    }\n",
       "\n",
       "    .dataframe thead th {\n",
       "        text-align: right;\n",
       "    }\n",
       "</style>\n",
       "<table border=\"1\" class=\"dataframe\">\n",
       "  <thead>\n",
       "    <tr style=\"text-align: right;\">\n",
       "      <th></th>\n",
       "      <th>#</th>\n",
       "      <th>Country</th>\n",
       "      <th>GDP($)</th>\n",
       "      <th>GDP (abbrev.)($)</th>\n",
       "      <th>GDP  growth(%)</th>\n",
       "      <th>Population</th>\n",
       "      <th>GDP  per capita ($)</th>\n",
       "      <th>Share of World GDP (%)</th>\n",
       "    </tr>\n",
       "  </thead>\n",
       "  <tbody>\n",
       "    <tr>\n",
       "      <th>0</th>\n",
       "      <td>1</td>\n",
       "      <td>United States</td>\n",
       "      <td>1.948539e+13</td>\n",
       "      <td>1.948500e+13</td>\n",
       "      <td>0.0227</td>\n",
       "      <td>325084756</td>\n",
       "      <td>59939</td>\n",
       "      <td>0.2408</td>\n",
       "    </tr>\n",
       "    <tr>\n",
       "      <th>1</th>\n",
       "      <td>2</td>\n",
       "      <td>China</td>\n",
       "      <td>1.223770e+13</td>\n",
       "      <td>1.223800e+13</td>\n",
       "      <td>0.0690</td>\n",
       "      <td>1421021791</td>\n",
       "      <td>8612</td>\n",
       "      <td>0.1512</td>\n",
       "    </tr>\n",
       "    <tr>\n",
       "      <th>2</th>\n",
       "      <td>3</td>\n",
       "      <td>Japan</td>\n",
       "      <td>4.872415e+12</td>\n",
       "      <td>4.872000e+12</td>\n",
       "      <td>0.0171</td>\n",
       "      <td>127502725</td>\n",
       "      <td>38214</td>\n",
       "      <td>0.0602</td>\n",
       "    </tr>\n",
       "    <tr>\n",
       "      <th>3</th>\n",
       "      <td>4</td>\n",
       "      <td>Germany</td>\n",
       "      <td>3.693204e+12</td>\n",
       "      <td>3.693000e+12</td>\n",
       "      <td>0.0222</td>\n",
       "      <td>82658409</td>\n",
       "      <td>44680</td>\n",
       "      <td>0.0456</td>\n",
       "    </tr>\n",
       "    <tr>\n",
       "      <th>4</th>\n",
       "      <td>5</td>\n",
       "      <td>India</td>\n",
       "      <td>2.650725e+12</td>\n",
       "      <td>2.651000e+12</td>\n",
       "      <td>0.0668</td>\n",
       "      <td>1338676785</td>\n",
       "      <td>1980</td>\n",
       "      <td>0.0328</td>\n",
       "    </tr>\n",
       "    <tr>\n",
       "      <th>...</th>\n",
       "      <td>...</td>\n",
       "      <td>...</td>\n",
       "      <td>...</td>\n",
       "      <td>...</td>\n",
       "      <td>...</td>\n",
       "      <td>...</td>\n",
       "      <td>...</td>\n",
       "      <td>...</td>\n",
       "    </tr>\n",
       "    <tr>\n",
       "      <th>184</th>\n",
       "      <td>185</td>\n",
       "      <td>Sao Tome &amp; Principe</td>\n",
       "      <td>3.925703e+08</td>\n",
       "      <td>3.930000e+08</td>\n",
       "      <td>0.0387</td>\n",
       "      <td>207089</td>\n",
       "      <td>1896</td>\n",
       "      <td>0.0000</td>\n",
       "    </tr>\n",
       "    <tr>\n",
       "      <th>185</th>\n",
       "      <td>186</td>\n",
       "      <td>Palau</td>\n",
       "      <td>2.898235e+08</td>\n",
       "      <td>2.900000e+08</td>\n",
       "      <td>-0.0357</td>\n",
       "      <td>17808</td>\n",
       "      <td>16275</td>\n",
       "      <td>0.0000</td>\n",
       "    </tr>\n",
       "    <tr>\n",
       "      <th>186</th>\n",
       "      <td>187</td>\n",
       "      <td>Marshall Islands</td>\n",
       "      <td>2.041734e+08</td>\n",
       "      <td>2.040000e+08</td>\n",
       "      <td>0.0360</td>\n",
       "      <td>58058</td>\n",
       "      <td>3517</td>\n",
       "      <td>0.0000</td>\n",
       "    </tr>\n",
       "    <tr>\n",
       "      <th>187</th>\n",
       "      <td>188</td>\n",
       "      <td>Kiribati</td>\n",
       "      <td>1.855725e+08</td>\n",
       "      <td>1.860000e+08</td>\n",
       "      <td>0.0033</td>\n",
       "      <td>114158</td>\n",
       "      <td>1626</td>\n",
       "      <td>0.0000</td>\n",
       "    </tr>\n",
       "    <tr>\n",
       "      <th>188</th>\n",
       "      <td>189</td>\n",
       "      <td>Tuvalu</td>\n",
       "      <td>3.973132e+07</td>\n",
       "      <td>4.000000e+07</td>\n",
       "      <td>0.0324</td>\n",
       "      <td>11370</td>\n",
       "      <td>3494</td>\n",
       "      <td>0.0000</td>\n",
       "    </tr>\n",
       "  </tbody>\n",
       "</table>\n",
       "<p>189 rows × 8 columns</p>\n",
       "</div>"
      ],
      "text/plain": [
       "       #              Country        GDP($)  GDP (abbrev.)($)  GDP  growth(%)  \\\n",
       "0      1        United States  1.948539e+13      1.948500e+13          0.0227   \n",
       "1      2                China  1.223770e+13      1.223800e+13          0.0690   \n",
       "2      3                Japan  4.872415e+12      4.872000e+12          0.0171   \n",
       "3      4              Germany  3.693204e+12      3.693000e+12          0.0222   \n",
       "4      5                India  2.650725e+12      2.651000e+12          0.0668   \n",
       "..   ...                  ...           ...               ...             ...   \n",
       "184  185  Sao Tome & Principe  3.925703e+08      3.930000e+08          0.0387   \n",
       "185  186                Palau  2.898235e+08      2.900000e+08         -0.0357   \n",
       "186  187     Marshall Islands  2.041734e+08      2.040000e+08          0.0360   \n",
       "187  188             Kiribati  1.855725e+08      1.860000e+08          0.0033   \n",
       "188  189               Tuvalu  3.973132e+07      4.000000e+07          0.0324   \n",
       "\n",
       "     Population  GDP  per capita ($)  Share of World GDP (%)  \n",
       "0     325084756                59939                  0.2408  \n",
       "1    1421021791                 8612                  0.1512  \n",
       "2     127502725                38214                  0.0602  \n",
       "3      82658409                44680                  0.0456  \n",
       "4    1338676785                 1980                  0.0328  \n",
       "..          ...                  ...                     ...  \n",
       "184      207089                 1896                  0.0000  \n",
       "185       17808                16275                  0.0000  \n",
       "186       58058                 3517                  0.0000  \n",
       "187      114158                 1626                  0.0000  \n",
       "188       11370                 3494                  0.0000  \n",
       "\n",
       "[189 rows x 8 columns]"
      ]
     },
     "execution_count": 9,
     "metadata": {},
     "output_type": "execute_result"
    }
   ],
   "source": [
    "url = 'https://www.worldometers.info/gdp/gdp-by-country/'\n",
    "response=get(url)\n",
    "soup=BeautifulSoup(response.text,'html.parser')\n",
    "Head=soup.find('thead')\n",
    "H=Head.find_all('th')\n",
    "Table=soup.find('tbody')\n",
    "T=Table.find_all('tr')\n",
    "columns=[col for col in T[0]]\n",
    "Beep=[T[i] for i in range(0,len(T))]\n",
    "headers=[i.get_text() for i in H]\n",
    "\n",
    "tipping=[]\n",
    "for col in columns:\n",
    "    if col==' ':\n",
    "        pass\n",
    "    else:\n",
    "        tipping.append(col.get_text())\n",
    "tip=[]\n",
    "for i in range(0,len(T)):\n",
    "    clip=[]\n",
    "    columns=[col for col in T[i]]\n",
    "    for col in columns:\n",
    "        if col==' ':\n",
    "            pass\n",
    "        else:\n",
    "            clip.append(col.get_text())\n",
    "    tip.append(clip)\n",
    "gdp=pd.DataFrame(tip,columns=headers)\n",
    "\n",
    "#cleaning GDP nominal\n",
    "gdp['GDP (nominal, 2017) ']=gdp['GDP (nominal, 2017) '].str.replace('$',' ')\n",
    "gdp['GDP (nominal, 2017) ']=gdp['GDP (nominal, 2017) '].str.replace(',','').astype(float)\n",
    "gdp['GDP (nominal, 2017) ']=pd.to_numeric(gdp['GDP (nominal, 2017) '] )\n",
    "gdp.rename(columns={'GDP (nominal, 2017) ':'GDP($)'}, inplace=True)\n",
    "\n",
    "#Cleanng GDP abbrev\n",
    "gdp['GDP (abbrev.)']=gdp['GDP (abbrev.)'].str.replace('$',' ')\n",
    "def money(num,part):\n",
    "    if part=='trillion':\n",
    "        num=num*1000000000000\n",
    "    elif part=='billion':\n",
    "        num=num*1000000000\n",
    "    else:\n",
    "        num=num*1000000\n",
    "    return(num)\n",
    "\n",
    "def marker(plop):\n",
    "    mak=len(plop)//2\n",
    "    num=plop[0:mak]\n",
    "    word=plop[mak:len(plop)]\n",
    "    if word=='illion' or word=='rillion' :\n",
    "        num=float(plop[0:mak-1])\n",
    "        word=plop[mak-1:len(plop)]\n",
    "        return(money(num,word))\n",
    "    else:\n",
    "        return(money(float(num),word))\n",
    "gdp['GDP (abbrev.)']=[marker(i) for i in gdp['GDP (abbrev.)']]\n",
    "gdp.rename(columns={'GDP (abbrev.)':'GDP (abbrev.)($)'}, inplace=True)\n",
    "\n",
    "#clean growth\n",
    "gdp['GDP  growth']=gdp['GDP  growth'].str.replace('%','').astype(float).divide(100)\n",
    "gdp.rename(columns={'GDP  growth':'GDP  growth(%)'}, inplace=True)\n",
    "#clean population\n",
    "gdp['Population (2017) ']=gdp['Population (2017) '].str.replace(',','').astype(int)\n",
    "gdp.rename(columns={'Population (2017) ':'Population'}, inplace=True)\n",
    "#clean per capita\n",
    "gdp['GDP  per capita ']=gdp['GDP  per capita '].str.replace('$',' ').str.replace(',','').astype(int)\n",
    "gdp.rename(columns={'GDP  per capita ':'GDP  per capita ($)'}, inplace=True)\n",
    "#share of GDP\n",
    "gdp['Share of World GDP ']=gdp['Share of World GDP '].str.replace('%','').astype(float).divide(100)\n",
    "gdp.rename(columns={'Share of World GDP ':'Share of World GDP (%)'}, inplace=True)\n",
    "\n",
    "gdp"
   ]
  },
  {
   "cell_type": "code",
   "execution_count": 10,
   "metadata": {},
   "outputs": [],
   "source": [
    "url1 = 'https://www.worldatlas.com/cntycont.htm'\n",
    "url2='https://www.nationmaster.com/country-info/stats/Geography/Land-area/Square-miles'"
   ]
  },
  {
   "cell_type": "code",
   "execution_count": 11,
   "metadata": {},
   "outputs": [],
   "source": [
    "response=get(url1)\n",
    "soup=BeautifulSoup(response.text,'html.parser')\n",
    "\n",
    "Tropicanna=soup.find('div',class_=\"miscTxt\")\n",
    "continents=Tropicanna.find_all('h2')\n",
    "cont_counts=Tropicanna.find_all('ul')\n",
    "top=cont_counts[1].find_all('li')\n",
    "Conts=[con.get_text() for con in continents]\n",
    "Countries=[]\n",
    "Continets=[]\n",
    "for j in range(len(Conts)-2):\n",
    "    stuff=Conts[j]\n",
    "    top=cont_counts[j].find_all('li')\n",
    "    for steel in top:\n",
    "        Countries.append(steel.get_text())\n",
    "        Continets.append(stuff)\n",
    "\n",
    "ConCun=pd.DataFrame(zip(Countries,Continets), columns=['Country','Continets'])\n",
    "ConCun['Continets']=ConCun['Continets'].str.replace('(','').str.replace(')','').str.replace('\\n','')\n",
    "ConCun['Continets']=[title[0:len(title)-3] for title in ConCun['Continets']]"
   ]
  },
  {
   "cell_type": "code",
   "execution_count": 12,
   "metadata": {},
   "outputs": [
    {
     "data": {
      "text/html": [
       "<div>\n",
       "<style scoped>\n",
       "    .dataframe tbody tr th:only-of-type {\n",
       "        vertical-align: middle;\n",
       "    }\n",
       "\n",
       "    .dataframe tbody tr th {\n",
       "        vertical-align: top;\n",
       "    }\n",
       "\n",
       "    .dataframe thead th {\n",
       "        text-align: right;\n",
       "    }\n",
       "</style>\n",
       "<table border=\"1\" class=\"dataframe\">\n",
       "  <thead>\n",
       "    <tr style=\"text-align: right;\">\n",
       "      <th></th>\n",
       "      <th>Country</th>\n",
       "      <th>Continets</th>\n",
       "      <th>Landarea</th>\n",
       "    </tr>\n",
       "  </thead>\n",
       "  <tbody>\n",
       "    <tr>\n",
       "      <th>0</th>\n",
       "      <td>Algeria</td>\n",
       "      <td>AFRICA</td>\n",
       "      <td>919,595 square miles</td>\n",
       "    </tr>\n",
       "    <tr>\n",
       "      <th>1</th>\n",
       "      <td>Angola</td>\n",
       "      <td>AFRICA</td>\n",
       "      <td>481,354 square miles</td>\n",
       "    </tr>\n",
       "    <tr>\n",
       "      <th>2</th>\n",
       "      <td>Benin</td>\n",
       "      <td>AFRICA</td>\n",
       "      <td>43,484 square miles</td>\n",
       "    </tr>\n",
       "    <tr>\n",
       "      <th>3</th>\n",
       "      <td>Botswana</td>\n",
       "      <td>AFRICA</td>\n",
       "      <td>224,607 square miles</td>\n",
       "    </tr>\n",
       "    <tr>\n",
       "      <th>4</th>\n",
       "      <td>Burkina</td>\n",
       "      <td>AFRICA</td>\n",
       "      <td>NaN</td>\n",
       "    </tr>\n",
       "    <tr>\n",
       "      <th>...</th>\n",
       "      <td>...</td>\n",
       "      <td>...</td>\n",
       "      <td>...</td>\n",
       "    </tr>\n",
       "    <tr>\n",
       "      <th>189</th>\n",
       "      <td>Paraguay</td>\n",
       "      <td>S. AMERICA</td>\n",
       "      <td>157,048 square miles</td>\n",
       "    </tr>\n",
       "    <tr>\n",
       "      <th>190</th>\n",
       "      <td>Peru</td>\n",
       "      <td>S. AMERICA</td>\n",
       "      <td>496,225 square miles</td>\n",
       "    </tr>\n",
       "    <tr>\n",
       "      <th>191</th>\n",
       "      <td>Suriname</td>\n",
       "      <td>S. AMERICA</td>\n",
       "      <td>63,037 square miles</td>\n",
       "    </tr>\n",
       "    <tr>\n",
       "      <th>192</th>\n",
       "      <td>Uruguay</td>\n",
       "      <td>S. AMERICA</td>\n",
       "      <td>68,037 square miles</td>\n",
       "    </tr>\n",
       "    <tr>\n",
       "      <th>193</th>\n",
       "      <td>Venezuela</td>\n",
       "      <td>S. AMERICA</td>\n",
       "      <td>340,561 square miles</td>\n",
       "    </tr>\n",
       "  </tbody>\n",
       "</table>\n",
       "<p>194 rows × 3 columns</p>\n",
       "</div>"
      ],
      "text/plain": [
       "       Country   Continets              Landarea\n",
       "0      Algeria      AFRICA  919,595 square miles\n",
       "1       Angola      AFRICA  481,354 square miles\n",
       "2        Benin      AFRICA   43,484 square miles\n",
       "3     Botswana      AFRICA  224,607 square miles\n",
       "4      Burkina      AFRICA                   NaN\n",
       "..         ...         ...                   ...\n",
       "189   Paraguay  S. AMERICA  157,048 square miles\n",
       "190       Peru  S. AMERICA  496,225 square miles\n",
       "191   Suriname  S. AMERICA   63,037 square miles\n",
       "192    Uruguay  S. AMERICA   68,037 square miles\n",
       "193  Venezuela  S. AMERICA  340,561 square miles\n",
       "\n",
       "[194 rows x 3 columns]"
      ]
     },
     "execution_count": 12,
     "metadata": {},
     "output_type": "execute_result"
    }
   ],
   "source": [
    "response1=get(url2)\n",
    "sauce=BeautifulSoup(response1.text,'html.parser')\n",
    "\n",
    "tim=sauce.find('tbody')\n",
    "info=tim.find_all('tr')\n",
    "country=[]\n",
    "land=[]\n",
    "for i in range(0,len(info)):\n",
    "    test=info[i].find_all('td')\n",
    "    country.append(test[1].get_text())\n",
    "    land.append(test[2].get_text().strip())\n",
    "    \n",
    "landmass=pd.DataFrame(zip(country,land), columns=['Country','Landarea'])\n",
    "landmass['Country']=landmass['Country'].str.replace('\\n','')\n",
    "Information=ConCun.join(landmass.set_index('Country'), on='Country')\n",
    "Information"
   ]
  },
  {
   "cell_type": "code",
   "execution_count": 13,
   "metadata": {},
   "outputs": [],
   "source": [
    "Information=Information.join(gdp.set_index('Country'), on='Country')"
   ]
  },
  {
   "cell_type": "markdown",
   "metadata": {},
   "source": [
    "## Clustering the Data "
   ]
  },
  {
   "cell_type": "code",
   "execution_count": 14,
   "metadata": {},
   "outputs": [],
   "source": [
    "from scipy.cluster import hierarchy \n",
    "from sklearn import metrics\n",
    "from sklearn.cluster import KMeans, AgglomerativeClustering\n",
    "from sklearn.cluster import DBSCAN\n",
    "from sklearn.preprocessing import scale\n",
    "from sklearn.decomposition import PCA "
   ]
  },
  {
   "cell_type": "code",
   "execution_count": 15,
   "metadata": {},
   "outputs": [],
   "source": [
    "data_2019 = pd.read_csv(\"2019_raw.csv\", encoding = \"ISO-8859-1\").dropna(axis = 0, how = \"all\")\n",
    "data_2020 = pd.read_csv(\"2020_raw.csv\", encoding = \"ISO-8859-1\").dropna(axis = 0, how = \"all\", thresh = 2)\n",
    "\n",
    "#Clean 2020 Data\n",
    "data_2020 = data_2020.drop('Depth (km)', axis = 1).drop('Type', axis = 1).drop('Origin', axis = 1).drop('Tsunami height', axis = 1)\n",
    "data_2020 = data_2020.fillna(value = 0)\n",
    "data_2020 = data_2020.rename(columns = {\"Epicenter\" : \"Country\", \"Region (Epicenter)\" : \"Region\"} )\n",
    "\n",
    "#Clean 2019 Data\n",
    "data_2019 = data_2019.drop('Depth (km)', axis = 1).drop('Type', axis = 1).drop('Origin', axis = 1).drop('Tsunami height', axis = 1)\n",
    "data_2019 = data_2019.fillna(value = 0).replace(\"--\", \"0\")\n",
    "data_2019 = data_2019.rename(columns = {\"Country (Epicenter)\" : \"Country\", \"Region (Epicenter)\" : \"Region\"} )\n",
    "\n",
    "Database=pd.concat([data_2019,data_2020])\n",
    "Database['Intensity (MMI / JMA)']=Database['Intensity (MMI / JMA)'].str.replace('+',' ')\n",
    "Database['Intensity (MMI / JMA)']=Database['Intensity (MMI / JMA)'].str.replace('-',' ')\n",
    "Database['Intensity (MMI / JMA)']=Database['Intensity (MMI / JMA)'].str.replace('JMA',' ')\n",
    "Database['Intensity (MMI / JMA)']=Database['Intensity (MMI / JMA)'].str.replace('/ 7',' ')\n",
    "Database['Intensity (MMI / JMA)']=Database['Intensity (MMI / JMA)'].str.replace('Shindo ','')\n",
    "\n",
    "def roman_to_number(num):\n",
    "    rom_val = {'I': 1, 'V': 5, 'X': 10, 'L':50 , 'C':100, 'D':500, 'M':1000}\n",
    "    res=0\n",
    "    i=0\n",
    "    while i<len(num):\n",
    "        s1=num[i]\n",
    "        num1=rom_val[s1]\n",
    "        if i+1<len(num):\n",
    "            s2=num[i+1]\n",
    "            num2=rom_val[s2]\n",
    "            if num2<=num1:\n",
    "                res=res+num1\n",
    "                i+=1\n",
    "            else:\n",
    "                res=res+num2-num1\n",
    "                i+=2\n",
    "        else:\n",
    "            res=res+num1\n",
    "            i+=1\n",
    "    return(res)\n",
    "        \n",
    "def change(num):\n",
    "    if type(num)==str:\n",
    "        if len(num)>4:\n",
    "            tip=num[0:len(num)//2].strip()\n",
    "        else:\n",
    "            tip=num.strip()\n",
    "        try:\n",
    "            return(int(tip))\n",
    "        except:\n",
    "            return(roman_to_number(tip))\n",
    "    else:\n",
    "        return(num)\n",
    "Database['Intensity (MMI / JMA)']=[change(chest) for chest in Database['Intensity (MMI / JMA)']]"
   ]
  },
  {
   "cell_type": "code",
   "execution_count": 16,
   "metadata": {},
   "outputs": [],
   "source": [
    "Current=pd.DataFrame(zip(time,Locate,magni,depth,lattitude,longitude), columns=['time','Location','Magnitude','Depth (km)','lattitude','longitude'])\n"
   ]
  },
  {
   "cell_type": "code",
   "execution_count": 17,
   "metadata": {},
   "outputs": [
    {
     "data": {
      "text/plain": [
       "Text(0.5, 1.0, 'Principal Component of States')"
      ]
     },
     "execution_count": 17,
     "metadata": {},
     "output_type": "execute_result"
    },
    {
     "data": {
      "image/png": "[encoded data removed]",
      "text/plain": [
       "<Figure size 432x288 with 1 Axes>"
      ]
     },
     "metadata": {
      "needs_background": "light"
     },
     "output_type": "display_data"
    }
   ],
   "source": [
    "dat=Database[['Magnitude','Intensity (MMI / JMA)','Fatalities','Injuries','displaced','Impact value (D)','buildings damaged','buildings destroyed']].dropna()\n",
    "sca=scale(dat)\n",
    "pca_model = PCA()\n",
    "X_PCA = pca_model.fit_transform(sca)\n",
    "fig, ax = plt.subplots()\n",
    "ax.set_xlim(X_PCA[:,0].min()-1,X_PCA[:,0].max()+1)\n",
    "ax.set_ylim(X_PCA[:,1].min()-1,X_PCA[:,1].max()+1)\n",
    "plt.scatter(X_PCA[:,0],X_PCA[:,1])\n",
    "plt.xlabel('Principal Component 1')\n",
    "plt.ylabel('Principal Component 2')\n",
    "plt.title('Principal Component of States')"
   ]
  },
  {
   "cell_type": "code",
   "execution_count": 18,
   "metadata": {},
   "outputs": [
    {
     "data": {
      "image/png": "[encoded data removed]",
      "text/plain": [
       "<Figure size 432x288 with 64 Axes>"
      ]
     },
     "metadata": {
      "needs_background": "light"
     },
     "output_type": "display_data"
    }
   ],
   "source": [
    "axs=pd.plotting.scatter_matrix(dat)\n",
    "plt.suptitle('Earthquake Data', size=20)\n",
    "n = len(dat.columns)\n",
    "for x in range(n):\n",
    "    for y in range(n):\n",
    "        # to get the axis of subplots\n",
    "        ax = axs[x, y]\n",
    "        # to make x axis name vertical  \n",
    "        ax.xaxis.label.set_rotation(90)\n",
    "        # to make y axis name horizontal \n",
    "        ax.yaxis.label.set_rotation(0)\n",
    "        # to make sure y axis names are outside the plot area\n",
    "        ax.yaxis.labelpad = 50"
   ]
  },
  {
   "cell_type": "code",
   "execution_count": 19,
   "metadata": {},
   "outputs": [
    {
     "name": "stdout",
     "output_type": "stream",
     "text": [
      "[0.57296607 0.17127359 0.10469433 0.06114026 0.04497316 0.02407714\n",
      " 0.0156102  0.00526525]\n"
     ]
    }
   ],
   "source": [
    "var_ratio = pca_model.explained_variance_ratio_\n",
    "print(var_ratio)"
   ]
  },
  {
   "cell_type": "code",
   "execution_count": 20,
   "metadata": {},
   "outputs": [
    {
     "data": {
      "text/plain": [
       "<matplotlib.collections.PathCollection at 0x1d7404e8198>"
      ]
     },
     "execution_count": 20,
     "metadata": {},
     "output_type": "execute_result"
    },
    {
     "data": {
      "image/png": "[encoded data removed]",
      "text/plain": [
       "<Figure size 432x288 with 1 Axes>"
      ]
     },
     "metadata": {
      "needs_background": "light"
     },
     "output_type": "display_data"
    }
   ],
   "source": [
    "import matplotlib.pyplot as plt\n",
    "from matplotlib.colors import ListedColormap\n",
    "cmap = ListedColormap([\"#e41a1c\",\"#984ea3\",\"#a65628\",\"#377eb8\"])\n",
    "plt.scatter(Database['Long'],Database['Lat'])"
   ]
  },
  {
   "cell_type": "code",
   "execution_count": 21,
   "metadata": {},
   "outputs": [
    {
     "name": "stderr",
     "output_type": "stream",
     "text": [
      "C:\\Users\\paulm\\Anaconda3\\lib\\site-packages\\ipykernel_launcher.py:4: SettingWithCopyWarning: \n",
      "A value is trying to be set on a copy of a slice from a DataFrame.\n",
      "Try using .loc[row_indexer,col_indexer] = value instead\n",
      "\n",
      "See the caveats in the documentation: https://pandas.pydata.org/pandas-docs/stable/user_guide/indexing.html#returning-a-view-versus-a-copy\n",
      "  after removing the cwd from sys.path.\n"
     ]
    },
    {
     "data": {
      "text/plain": [
       "<matplotlib.collections.PathCollection at 0x1d740554860>"
      ]
     },
     "execution_count": 21,
     "metadata": {},
     "output_type": "execute_result"
    },
    {
     "data": {
      "image/png": "[encoded data removed]",
      "text/plain": [
       "<Figure size 432x288 with 1 Axes>"
      ]
     },
     "metadata": {
      "needs_background": "light"
     },
     "output_type": "display_data"
    }
   ],
   "source": [
    "quac=earthquake_data[['Lat','Long']]\n",
    "scal=scale(quac)\n",
    "y_pred = KMeans(n_clusters=6,n_init=50).fit_predict(scal)\n",
    "quac['grouping']=y_pred\n",
    "plt.scatter(quac['Long'],quac['Lat'],c=y_pred,cmap=cmap)"
   ]
  },
  {
   "cell_type": "markdown",
   "metadata": {},
   "source": [
    "## Groupings for countries"
   ]
  },
  {
   "cell_type": "code",
   "execution_count": 22,
   "metadata": {},
   "outputs": [
    {
     "name": "stderr",
     "output_type": "stream",
     "text": [
      "C:\\Users\\paulm\\Anaconda3\\lib\\site-packages\\ipykernel_launcher.py:4: SettingWithCopyWarning: \n",
      "A value is trying to be set on a copy of a slice from a DataFrame.\n",
      "Try using .loc[row_indexer,col_indexer] = value instead\n",
      "\n",
      "See the caveats in the documentation: https://pandas.pydata.org/pandas-docs/stable/user_guide/indexing.html#returning-a-view-versus-a-copy\n",
      "  after removing the cwd from sys.path.\n"
     ]
    },
    {
     "data": {
      "text/plain": [
       "<matplotlib.collections.PathCollection at 0x1d7405bdd30>"
      ]
     },
     "execution_count": 22,
     "metadata": {},
     "output_type": "execute_result"
    },
    {
     "data": {
      "image/png": "[encoded data removed]",
      "text/plain": [
       "<Figure size 432x288 with 1 Axes>"
      ]
     },
     "metadata": {
      "needs_background": "light"
     },
     "output_type": "display_data"
    }
   ],
   "source": [
    "quac=Current[['lattitude','longitude']]\n",
    "scal=scale(quac)\n",
    "y_pred = KMeans(n_clusters=7,n_init=50).fit_predict(scal)\n",
    "quac['grouping']=y_pred\n",
    "plt.scatter(quac['longitude'],quac['lattitude'],c=y_pred,cmap=cmap)"
   ]
  },
  {
   "cell_type": "code",
   "execution_count": 23,
   "metadata": {},
   "outputs": [
    {
     "data": {
      "text/plain": [
       "<matplotlib.collections.PathCollection at 0x1d740624a20>"
      ]
     },
     "execution_count": 23,
     "metadata": {},
     "output_type": "execute_result"
    },
    {
     "data": {
      "image/png": "[encoded data removed]",
      "text/plain": [
       "<Figure size 432x288 with 1 Axes>"
      ]
     },
     "metadata": {
      "needs_background": "light"
     },
     "output_type": "display_data"
    }
   ],
   "source": [
    "y_pred = KMeans(n_clusters=4).fit_predict(sca)\n",
    "dat['grouping']=y_pred\n",
    "plt.scatter(X_PCA[:,0],X_PCA[:,1],c=y_pred,cmap=cmap)"
   ]
  },
  {
   "cell_type": "code",
   "execution_count": 23,
   "metadata": {},
   "outputs": [
    {
     "data": {
      "text/plain": [
       "<matplotlib.collections.PathCollection at 0x214d55bbfd0>"
      ]
     },
     "execution_count": 23,
     "metadata": {},
     "output_type": "execute_result"
    },
    {
     "data": {
      "image/png": "[encoded data removed]",
      "text/plain": [
       "<Figure size 432x288 with 1 Axes>"
      ]
     },
     "metadata": {
      "needs_background": "light"
     },
     "output_type": "display_data"
    }
   ],
   "source": [
    "agg_cluster_model = AgglomerativeClustering(linkage='complete', affinity='euclidean', n_clusters=7)\n",
    "y_pred1 = agg_cluster_model.fit_predict(sca)\n",
    "dat['grouping1']=y_pred1\n",
    "plt.scatter(X_PCA[:,0],X_PCA[:,1],c=y_pred1,cmap=cmap)"
   ]
  },
  {
   "cell_type": "code",
   "execution_count": 24,
   "metadata": {},
   "outputs": [
    {
     "data": {
      "text/plain": [
       "<matplotlib.collections.PathCollection at 0x214d56294e0>"
      ]
     },
     "execution_count": 24,
     "metadata": {},
     "output_type": "execute_result"
    },
    {
     "data": {
      "image/png": "[encoded data removed]",
      "text/plain": [
       "<Figure size 432x288 with 1 Axes>"
      ]
     },
     "metadata": {
      "needs_background": "light"
     },
     "output_type": "display_data"
    }
   ],
   "source": [
    "db_model = DBSCAN(eps=1, min_samples=1).fit(sca)\n",
    "y_pred2 = db_model.fit_predict(sca)\n",
    "dat['grouping2']=y_pred2\n",
    "plt.scatter(X_PCA[:,0],X_PCA[:,1],c=y_pred2,cmap=cmap)"
   ]
  },
  {
   "cell_type": "code",
   "execution_count": 77,
   "metadata": {},
   "outputs": [
    {
     "data": {
      "text/plain": [
       "18.75"
      ]
     },
     "execution_count": 77,
     "metadata": {},
     "output_type": "execute_result"
    }
   ],
   "source": [
    "stamp=earthquake_data[(3<= earthquake_data['Magnitude'])&(earthquake_data['Magnitude']<4)]\n",
    "(len(stamp.groupby(['Country']).get_group('USA'))/len(earthquake_data.groupby(['Country']).get_group('USA')))*100"
   ]
  },
  {
   "cell_type": "code",
   "execution_count": 25,
   "metadata": {},
   "outputs": [
    {
     "data": {
      "text/plain": [
       "[50.0, 25.0, 25.0, 'nana', 'nana', 'nana', 'nana', 'nana']"
      ]
     },
     "execution_count": 25,
     "metadata": {},
     "output_type": "execute_result"
    }
   ],
   "source": [
    "def probability(c):\n",
    "    its=[2,3,4,5,6,7,8,9,10]\n",
    "    m=[]\n",
    "    for i in range(len(its)-1):\n",
    "        stamp=earthquake_data[(its[i]<= earthquake_data['Magnitude'])&(earthquake_data['Magnitude']<its[i+1])]\n",
    "        try:\n",
    "            t=len(stamp.groupby(['Country']).get_group(c))/len(earthquake_data.groupby(['Country']).get_group(c))*100\n",
    "        except:\n",
    "            t='nana'\n",
    "        m.append(t)\n",
    "    return(m)\n",
    "\n",
    "probability('United Kingdom')"
   ]
  },
  {
   "cell_type": "code",
   "execution_count": null,
   "metadata": {},
   "outputs": [],
   "source": []
  }
 ],
 "metadata": {
  "kernelspec": {
   "display_name": "Python 3",
   "language": "python",
   "name": "python3"
  },
  "language_info": {
   "codemirror_mode": {
    "name": "ipython",
    "version": 3
   },
   "file_extension": ".py",
   "mimetype": "text/x-python",
   "name": "python",
   "nbconvert_exporter": "python",
   "pygments_lexer": "ipython3",
   "version": "3.6.10"
  }
 },
 "nbformat": 4,
 "nbformat_minor": 4
}
