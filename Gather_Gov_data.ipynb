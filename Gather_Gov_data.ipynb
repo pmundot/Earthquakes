{
 "cells": [
  {
   "cell_type": "code",
   "execution_count": 1,
   "metadata": {},
   "outputs": [],
   "source": [
    "import pandas as pd\n",
    "import numpy as np\n",
    "from bs4 import BeautifulSoup\n",
    "import scipy as sci\n",
    "from requests import get"
   ]
  },
  {
   "cell_type": "code",
   "execution_count": 2,
   "metadata": {},
   "outputs": [],
   "source": [
    "url = 'http://feed.unmung.com/feed?feed=http://earthquake.usgs.gov/earthquakes/feed/v1.0/summary/all_week.atom'\n",
    "url1 = 'https://earthquake.usgs.gov/earthquakes/map/#%7B%22autoUpdate%22%3A%5B%5D%2C%22basemap%22%3A%22grayscale%22%2C%22feed%22%3A%221582843605893%22%2C%22listFormat%22%3A%22dyfi%22%2C%22mapposition%22%3A%5B%5B-87.82408863963757%2C35.859375%5D%2C%5B87.79722825107984%2C324.140625%5D%5D%2C%22overlays%22%3A%5B%22plates%22%5D%2C%22restrictListToMap%22%3A%5B%22restrictListToMap%22%5D%2C%22search%22%3A%7B%22id%22%3A%221582843605893%22%2C%22name%22%3A%22Search%20Results%22%2C%22isSearch%22%3Atrue%2C%22params%22%3A%7B%22starttime%22%3A%222020-02-20%2000%3A00%3A00%22%2C%22endtime%22%3A%222020-02-27%2023%3A59%3A59%22%2C%22orderby%22%3A%22time%22%2C%22producttype%22%3A%22dyfi%22%7D%7D%2C%22sort%22%3A%22newest%22%2C%22timezone%22%3A%22utc%22%2C%22viewModes%22%3A%5B%22list%22%2C%22map%22%5D%2C%22event%22%3A%22pr2020058038%22%7D'"
   ]
  },
  {
   "cell_type": "code",
   "execution_count": 3,
   "metadata": {},
   "outputs": [],
   "source": [
    "response=get(url1)\n",
    "soup=BeautifulSoup(response.text,'html.parser')"
   ]
  },
  {
   "cell_type": "code",
   "execution_count": 4,
   "metadata": {},
   "outputs": [
    {
     "data": {
      "text/plain": [
       "<!DOCTYPE html>\n",
       "\n",
       "<html>\n",
       "<head>\n",
       "<title>Latest Earthquakes</title>\n",
       "<meta charset=\"utf-8\"/>\n",
       "<meta content=\"width=device-width, initial-scale=1\" name=\"viewport\"/>\n",
       "<meta charset=\"utf-8\"/>\n",
       "<meta content=\"width=device-width, initial-scale=1\" name=\"viewport\"/>\n",
       "<meta content=\"IE=edge,chrome=1\" http-equiv=\"X-UA-Compatible\"/>\n",
       "<link href=\"/theme/site/earthquake/index.css\" rel=\"stylesheet\"/>\n",
       "<link href=\"https://fonts.googleapis.com/icon?family=Material+Icons|Merriweather:400,400italic,700|Source+Sans+Pro:400,300,700\" rel=\"stylesheet\"/>\n",
       "<link href=\"/lib/leaflet-0.7.7/leaflet.css\" rel=\"stylesheet\"/>\n",
       "<link href=\"css/index.css\" rel=\"stylesheet\"/>\n",
       "<meta content=\"yes\" name=\"apple-mobile-web-app-capable\"/>\n",
       "<meta content=\"address=no\" name=\"format-detection\"/>\n",
       "<meta content=\"telephone=no\" name=\"format-detection\"/>\n",
       "<script async=\"async\" id=\"_fed_an_ua_tag\" src=\"/lib/Universal-Federated-Analytics-Min.1.0.js?agency=DOI&amp;subagency=USGS&amp;pua=UA-7320779-1\"></script>\n",
       "</head>\n",
       "<body>\n",
       "<main id=\"latest-earthquakes\" role=\"main\">\n",
       "<noscript>\n",
       "<p>\n",
       "      Javascript must be enabled to view our earthquake maps.\n",
       "      To access USGS earthquake information without using javascript, use our\n",
       "      <a href=\"/earthquakes/feed/v1.0/summary/2.5_day.atom\">\n",
       "        Magnitude 2.5+ Earthquakes, Past Day ATOM Feed\n",
       "      </a> or our other <a href=\"/earthquakes/feed/\">earthquake feeds</a>.\n",
       "    </p>\n",
       "</noscript>\n",
       "</main>\n",
       "<script>var SCENARIO_MODE = false;var SEARCH_PATH = \"\\/earthquakes\\/search\";</script>\n",
       "<script src=\"/lib/leaflet-0.7.7/leaflet.js\"></script>\n",
       "<script src=\"js/index.js\"></script>\n",
       "</body>\n",
       "</html>"
      ]
     },
     "execution_count": 4,
     "metadata": {},
     "output_type": "execute_result"
    }
   ],
   "source": [
    "soup"
   ]
  },
  {
   "cell_type": "code",
   "execution_count": 56,
   "metadata": {},
   "outputs": [],
   "source": [
    "Location=soup.find_all('a',class_=\"u-url\")\n",
    "Data=soup.find_all('span',class_=\"e-summary\")\n",
    "g1=Data[0].find_all('dd')\n",
    "g2=Data[1].find_all('dd')\n",
    "L=Location[1]"
   ]
  },
  {
   "cell_type": "code",
   "execution_count": 65,
   "metadata": {},
   "outputs": [
    {
     "data": {
      "text/plain": [
       "[-12.334, 36.555, -180.0, 90.234]"
      ]
     },
     "execution_count": 65,
     "metadata": {},
     "output_type": "execute_result"
    }
   ],
   "source": [
    "j=['12.334°S','36.555°N','180.000°S','90.234°N']\n",
    "y=[-float(t.replace('°S','')) if 'S' in t else float(t.replace('°N','')) for t in j  ]"
   ]
  },
  {
   "cell_type": "code",
   "execution_count": 59,
   "metadata": {},
   "outputs": [
    {
     "name": "stdout",
     "output_type": "stream",
     "text": [
      "0 days 00:13:26\n"
     ]
    }
   ],
   "source": [
    "G=g1[0].get_text()\n",
    "H=g2[0].get_text()\n",
    "time1=pd.to_datetime(G[0:len(G)-3])\n",
    "time2=pd.to_datetime(H[0:len(H)-3])\n",
    "print(time1-time2)"
   ]
  },
  {
   "cell_type": "code",
   "execution_count": null,
   "metadata": {},
   "outputs": [],
   "source": []
  }
 ],
 "metadata": {
  "kernelspec": {
   "display_name": "Python 3",
   "language": "python",
   "name": "python3"
  },
  "language_info": {
   "codemirror_mode": {
    "name": "ipython",
    "version": 3
   },
   "file_extension": ".py",
   "mimetype": "text/x-python",
   "name": "python",
   "nbconvert_exporter": "python",
   "pygments_lexer": "ipython3",
   "version": "3.6.4"
  }
 },
 "nbformat": 4,
 "nbformat_minor": 2
}
